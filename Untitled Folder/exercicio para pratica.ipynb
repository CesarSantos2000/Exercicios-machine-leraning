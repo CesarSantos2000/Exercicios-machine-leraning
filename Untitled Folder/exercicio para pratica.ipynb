{
 "cells": [
  {
   "cell_type": "code",
   "execution_count": 7,
   "metadata": {},
   "outputs": [],
   "source": [
    "import pandas as pd\n",
    "pd.set_option('Display.max_columns', 14)\n",
    "dados = pd.read_csv('C:/Users/perei/OneDrive/Documentos/MachineLearnig/dados/heart.csv')"
   ]
  },
  {
   "cell_type": "code",
   "execution_count": 8,
   "metadata": {},
   "outputs": [
    {
     "data": {
      "text/html": [
       "<div>\n",
       "<style scoped>\n",
       "    .dataframe tbody tr th:only-of-type {\n",
       "        vertical-align: middle;\n",
       "    }\n",
       "\n",
       "    .dataframe tbody tr th {\n",
       "        vertical-align: top;\n",
       "    }\n",
       "\n",
       "    .dataframe thead th {\n",
       "        text-align: right;\n",
       "    }\n",
       "</style>\n",
       "<table border=\"1\" class=\"dataframe\">\n",
       "  <thead>\n",
       "    <tr style=\"text-align: right;\">\n",
       "      <th></th>\n",
       "      <th>age</th>\n",
       "      <th>sex</th>\n",
       "      <th>cp</th>\n",
       "      <th>trestbps</th>\n",
       "      <th>chol</th>\n",
       "      <th>fbs</th>\n",
       "      <th>restecg</th>\n",
       "      <th>thalach</th>\n",
       "      <th>exang</th>\n",
       "      <th>oldpeak</th>\n",
       "      <th>slope</th>\n",
       "      <th>ca</th>\n",
       "      <th>thal</th>\n",
       "      <th>target</th>\n",
       "    </tr>\n",
       "  </thead>\n",
       "  <tbody>\n",
       "    <tr>\n",
       "      <th>0</th>\n",
       "      <td>63</td>\n",
       "      <td>1</td>\n",
       "      <td>3</td>\n",
       "      <td>145</td>\n",
       "      <td>233</td>\n",
       "      <td>1</td>\n",
       "      <td>0</td>\n",
       "      <td>150</td>\n",
       "      <td>0</td>\n",
       "      <td>2.3</td>\n",
       "      <td>0</td>\n",
       "      <td>0</td>\n",
       "      <td>1</td>\n",
       "      <td>1</td>\n",
       "    </tr>\n",
       "    <tr>\n",
       "      <th>1</th>\n",
       "      <td>37</td>\n",
       "      <td>1</td>\n",
       "      <td>2</td>\n",
       "      <td>130</td>\n",
       "      <td>250</td>\n",
       "      <td>0</td>\n",
       "      <td>1</td>\n",
       "      <td>187</td>\n",
       "      <td>0</td>\n",
       "      <td>3.5</td>\n",
       "      <td>0</td>\n",
       "      <td>0</td>\n",
       "      <td>2</td>\n",
       "      <td>1</td>\n",
       "    </tr>\n",
       "    <tr>\n",
       "      <th>2</th>\n",
       "      <td>41</td>\n",
       "      <td>0</td>\n",
       "      <td>1</td>\n",
       "      <td>130</td>\n",
       "      <td>204</td>\n",
       "      <td>0</td>\n",
       "      <td>0</td>\n",
       "      <td>172</td>\n",
       "      <td>0</td>\n",
       "      <td>1.4</td>\n",
       "      <td>2</td>\n",
       "      <td>0</td>\n",
       "      <td>2</td>\n",
       "      <td>1</td>\n",
       "    </tr>\n",
       "    <tr>\n",
       "      <th>3</th>\n",
       "      <td>56</td>\n",
       "      <td>1</td>\n",
       "      <td>1</td>\n",
       "      <td>120</td>\n",
       "      <td>236</td>\n",
       "      <td>0</td>\n",
       "      <td>1</td>\n",
       "      <td>178</td>\n",
       "      <td>0</td>\n",
       "      <td>0.8</td>\n",
       "      <td>2</td>\n",
       "      <td>0</td>\n",
       "      <td>2</td>\n",
       "      <td>1</td>\n",
       "    </tr>\n",
       "    <tr>\n",
       "      <th>4</th>\n",
       "      <td>57</td>\n",
       "      <td>0</td>\n",
       "      <td>0</td>\n",
       "      <td>120</td>\n",
       "      <td>354</td>\n",
       "      <td>0</td>\n",
       "      <td>1</td>\n",
       "      <td>163</td>\n",
       "      <td>1</td>\n",
       "      <td>0.6</td>\n",
       "      <td>2</td>\n",
       "      <td>0</td>\n",
       "      <td>2</td>\n",
       "      <td>1</td>\n",
       "    </tr>\n",
       "  </tbody>\n",
       "</table>\n",
       "</div>"
      ],
      "text/plain": [
       "   age  sex  cp  trestbps  chol  fbs  restecg  thalach  exang  oldpeak  slope  \\\n",
       "0   63    1   3       145   233    1        0      150      0      2.3      0   \n",
       "1   37    1   2       130   250    0        1      187      0      3.5      0   \n",
       "2   41    0   1       130   204    0        0      172      0      1.4      2   \n",
       "3   56    1   1       120   236    0        1      178      0      0.8      2   \n",
       "4   57    0   0       120   354    0        1      163      1      0.6      2   \n",
       "\n",
       "   ca  thal  target  \n",
       "0   0     1       1  \n",
       "1   0     2       1  \n",
       "2   0     2       1  \n",
       "3   0     2       1  \n",
       "4   0     2       1  "
      ]
     },
     "execution_count": 8,
     "metadata": {},
     "output_type": "execute_result"
    }
   ],
   "source": [
    "dados.head()"
   ]
  },
  {
   "cell_type": "code",
   "execution_count": 11,
   "metadata": {},
   "outputs": [
    {
     "name": "stdout",
     "output_type": "stream",
     "text": [
      "age         0.0\n",
      "sex         0.0\n",
      "cp          0.0\n",
      "trestbps    0.0\n",
      "chol        0.0\n",
      "fbs         0.0\n",
      "restecg     0.0\n",
      "thalach     0.0\n",
      "exang       0.0\n",
      "oldpeak     0.0\n",
      "slope       0.0\n",
      "ca          0.0\n",
      "thal        0.0\n",
      "target      0.0\n",
      "dtype: float64\n"
     ]
    }
   ],
   "source": [
    "faltantes = dados.isnull().sum()\n",
    "faltantes_percentual = (dados.isnull().sum()/len(dados['target']))*100\n",
    "print(faltantes_percentual)"
   ]
  },
  {
   "cell_type": "code",
   "execution_count": 13,
   "metadata": {},
   "outputs": [],
   "source": [
    "y = dados['target']\n",
    "x = dados.drop('target', axis=1)"
   ]
  },
  {
   "cell_type": "code",
   "execution_count": 14,
   "metadata": {},
   "outputs": [],
   "source": [
    "from sklearn.model_selection import train_test_split\n",
    "x_treino, x_teste, y_treino, y_teste = train_test_split(x, y, test_size=0.30, random_state=45)"
   ]
  },
  {
   "cell_type": "code",
   "execution_count": 15,
   "metadata": {},
   "outputs": [],
   "source": [
    "def modeloregressao(a, b, c, d):   \n",
    "    from sklearn.linear_model import LinearRegression\n",
    "    from sklearn.linear_model import ElasticNet\n",
    "    from sklearn.linear_model import Ridge\n",
    "    from sklearn.linear_model import Lasso\n",
    "    \n",
    "    x_treino = a\n",
    "    y_treino = b\n",
    "    x_teste = c\n",
    "    y_teste = d\n",
    "    linear = LinearRegression()\n",
    "    elastic = ElasticNet()\n",
    "    ridge = Ridge()\n",
    "    lasso = Lasso()\n",
    "    \n",
    "    linear.fit(x_treino, y_treino)\n",
    "    elastic.fit(x_treino, y_treino)\n",
    "    ridge.fit(x_treino, y_treino)\n",
    "    lasso.fit(x_treino, y_treino)\n",
    "    \n",
    "    resul_linear = linear.score(x_teste, y_teste)\n",
    "    resul_ridge = ridge.score(x_teste, y_teste)\n",
    "    resul_lasso = lasso.score(x_teste, y_teste)\n",
    "    resul_elastic = elastic.score(x_teste, y_teste)\n",
    "    \n",
    "    modelos = {'Linear': resul_linear, 'ridge': resul_ridge, 'lasso': resul_lasso, 'elastic': resul_elastic}\n",
    "    melhor_modelo = max(modelos, key=modelos.get)\n",
    "    \n",
    "    print('Linear', resul_linear, 'ridge', resul_ridge, 'lasso', resul_lasso, 'elastic', resul_elastic)\n",
    "    print('o melhor modelo: ', melhor_modelo, 'resultado', modelos[melhor_modelo])"
   ]
  },
  {
   "cell_type": "code",
   "execution_count": 16,
   "metadata": {},
   "outputs": [
    {
     "name": "stdout",
     "output_type": "stream",
     "text": [
      "Linear 0.49283911360065735 ridge 0.4937525972486958 lasso 0.19948762558087063 elastic 0.21994198475105142\n",
      "o melhor modelo:  ridge resultado 0.4937525972486958\n"
     ]
    }
   ],
   "source": [
    "modeloregressao(x_treino, y_treino, x_teste, y_teste)"
   ]
  },
  {
   "cell_type": "code",
   "execution_count": 17,
   "metadata": {},
   "outputs": [],
   "source": [
    "def classificador (a, b): \n",
    "    from sklearn.linear_model import LogisticRegression\n",
    "    from sklearn.tree import DecisionTreeRegressor\n",
    "    from sklearn.naive_bayes import GaussianNB\n",
    "    from sklearn.neighbors import KNeighborsClassifier\n",
    "    from sklearn.preprocessing import MinMaxScaler\n",
    "    from sklearn.model_selection import cross_val_score\n",
    "    from sklearn.model_selection import StratifiedKFold\n",
    "    import numpy as np\n",
    "    skfold  = StratifiedKFold(n_splits=3)\n",
    "    x = a\n",
    "    y = b\n",
    "    normalizador = MinMaxScaler(feature_range = (0, 1))\n",
    "    x_norm = normalizador.fit_transform(x)\n",
    "    \n",
    "    logistic = LogisticRegression()\n",
    "    decision = DecisionTreeRegressor()\n",
    "    gaussian = GaussianNB()\n",
    "    knn = KNeighborsClassifier()\n",
    "    \n",
    "    resul_logistic = cross_val_score(logistic,x,y,cv = skfold)\n",
    "    resul_decision = cross_val_score(decision,x,y,cv = skfold)\n",
    "    resul_gaussian = cross_val_score(gaussian,x,y,cv = skfold)\n",
    "    resul_knn = cross_val_score(knn,x_norm,y,cv = skfold)\n",
    "    \n",
    "    dic_modelos = {'Logistica': resul_logistic.mean(), 'Decisão': resul_decision.mean(),'Naive': resul_gaussian.mean(), 'KNN': resul_knn.mean()}\n",
    "    melhor_modelo = max(dic_modelos, key=dic_modelos.get)\n",
    "    print('Regressão Logistica ', resul_logistic.mean(), 'Decision Tree ', resul_decision.mean(), 'Naive Bayers ', resul_gaussian.mean(), 'KNN ', resul_knn.mean())\n",
    "    print('Melhor modelo: ', melhor_modelo, 'Valor: ', dic_modelos[melhor_modelo])"
   ]
  },
  {
   "cell_type": "code",
   "execution_count": 18,
   "metadata": {},
   "outputs": [
    {
     "name": "stderr",
     "output_type": "stream",
     "text": [
      "c:\\users\\perei\\appdata\\local\\programs\\python\\python38-32\\lib\\site-packages\\sklearn\\linear_model\\_logistic.py:762: ConvergenceWarning: lbfgs failed to converge (status=1):\n",
      "STOP: TOTAL NO. of ITERATIONS REACHED LIMIT.\n",
      "\n",
      "Increase the number of iterations (max_iter) or scale the data as shown in:\n",
      "    https://scikit-learn.org/stable/modules/preprocessing.html\n",
      "Please also refer to the documentation for alternative solver options:\n",
      "    https://scikit-learn.org/stable/modules/linear_model.html#logistic-regression\n",
      "  n_iter_i = _check_optimize_result(\n",
      "c:\\users\\perei\\appdata\\local\\programs\\python\\python38-32\\lib\\site-packages\\sklearn\\linear_model\\_logistic.py:762: ConvergenceWarning: lbfgs failed to converge (status=1):\n",
      "STOP: TOTAL NO. of ITERATIONS REACHED LIMIT.\n",
      "\n",
      "Increase the number of iterations (max_iter) or scale the data as shown in:\n",
      "    https://scikit-learn.org/stable/modules/preprocessing.html\n",
      "Please also refer to the documentation for alternative solver options:\n",
      "    https://scikit-learn.org/stable/modules/linear_model.html#logistic-regression\n",
      "  n_iter_i = _check_optimize_result(\n",
      "c:\\users\\perei\\appdata\\local\\programs\\python\\python38-32\\lib\\site-packages\\sklearn\\linear_model\\_logistic.py:762: ConvergenceWarning: lbfgs failed to converge (status=1):\n",
      "STOP: TOTAL NO. of ITERATIONS REACHED LIMIT.\n",
      "\n",
      "Increase the number of iterations (max_iter) or scale the data as shown in:\n",
      "    https://scikit-learn.org/stable/modules/preprocessing.html\n",
      "Please also refer to the documentation for alternative solver options:\n",
      "    https://scikit-learn.org/stable/modules/linear_model.html#logistic-regression\n",
      "  n_iter_i = _check_optimize_result(\n"
     ]
    },
    {
     "name": "stdout",
     "output_type": "stream",
     "text": [
      "Regressão Logistica  0.8316831683168316 Decision Tree  -0.05125164690382115 Naive Bayers  0.8052805280528054 KNN  0.7689768976897691\n",
      "Melhor modelo:  Logistica Valor:  0.8316831683168316\n"
     ]
    }
   ],
   "source": [
    "classificador(x, y)"
   ]
  },
  {
   "cell_type": "code",
   "execution_count": 19,
   "metadata": {},
   "outputs": [
    {
     "name": "stdout",
     "output_type": "stream",
     "text": [
      "minimo split 2\n",
      "maxima profundidade 2\n",
      "algoritimo mse\n",
      "coe. R2 0.05363437480143514\n"
     ]
    }
   ],
   "source": [
    "import numpy as np\n",
    "from sklearn.tree import DecisionTreeRegressor\n",
    "from sklearn.model_selection import GridSearchCV\n",
    "\n",
    "\n",
    "minimos_split = np.array([2,3,4,5,6,7,8])\n",
    "maximo_nivel = np.array([2,4,5,6,7,8,9,10,11])\n",
    "algoritimo = ['mse', 'friedman_mse','mae']\n",
    "grid_value = {'min_samples_split':minimos_split, 'max_depth': maximo_nivel, 'criterion':algoritimo}\n",
    "\n",
    "modelo = DecisionTreeRegressor()\n",
    "\n",
    "griddecision = GridSearchCV(estimator = modelo, param_grid = grid_value, cv=5)\n",
    "griddecision.fit(x,y)\n",
    "\n",
    "\n",
    "print('minimo split', griddecision.best_estimator_.min_samples_split)\n",
    "print('maxima profundidade', griddecision.best_estimator_.max_depth)\n",
    "print('algoritimo', griddecision.best_estimator_.criterion)\n",
    "print('coe. R2', griddecision.best_score_)"
   ]
  },
  {
   "cell_type": "code",
   "execution_count": null,
   "metadata": {},
   "outputs": [],
   "source": []
  }
 ],
 "metadata": {
  "kernelspec": {
   "display_name": "Python 3",
   "language": "python",
   "name": "python3"
  },
  "language_info": {
   "codemirror_mode": {
    "name": "ipython",
    "version": 3
   },
   "file_extension": ".py",
   "mimetype": "text/x-python",
   "name": "python",
   "nbconvert_exporter": "python",
   "pygments_lexer": "ipython3",
   "version": "3.8.2"
  }
 },
 "nbformat": 4,
 "nbformat_minor": 4
}
